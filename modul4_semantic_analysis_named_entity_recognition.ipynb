{
 "cells": [
  {
   "cell_type": "markdown",
   "metadata": {},
   "source": [
    "# Build your own NER Tagger using pycrfsuite\n",
    "\n",
    "__Named Entity Recognition (NER)__ , also known as entity chunking/extraction , is a popular technique used in information extraction to identify and segment the named entities and classify or categorize them under various predefined classes.\n",
    "\n",
    "There are various off the shelf solutions which offer capabilites to perform named entity extraction (some of which we discussed in the previous units). Yet there are times when the requirements are beyond the capabilities of off-the-shelf classifiers.\n",
    "\n",
    "In this notebook, we will go through an exercise to build our own NER using Conditional Random Fields.\n",
    "We would be utilizing ```pycrfsuite``` to develop our NER."
   ]
  },
  {
   "cell_type": "markdown",
   "metadata": {},
   "source": [
    "## Load Dataset\n",
    "\n",
    "Named Entity Recognition is a sequence modeling problem at it's core. It is more related to classification class of problems where in we need a labeled dataset to train a classifier. \n",
    "\n",
    "There are various labeled datasets for NER class of problems. We would be utilizing a pre-processed version of __INDONLU corpus__ for this notebook. The preprocessed version is availble at the following link : [indonlu/nerp_ner-prosa](https://github.com/IndoNLP/indonlu/tree/master/dataset/nerp_ner-prosa)\n",
    "\n",
    "We have provided the dataset in the code repository itself using some intelligent compression and you can access it directly from `pandas` as follows."
   ]
  },
  {
   "cell_type": "code",
   "execution_count": 1,
   "metadata": {},
   "outputs": [],
   "source": [
    "#!pip install scikit-learn==0.24.0"
   ]
  },
  {
   "cell_type": "code",
   "execution_count": 2,
   "metadata": {},
   "outputs": [
    {
     "name": "stdout",
     "output_type": "stream",
     "text": [
      "<class 'pandas.core.frame.DataFrame'>\n",
      "RangeIndex: 96274 entries, 0 to 96273\n",
      "Data columns (total 2 columns):\n",
      " #   Column  Non-Null Count  Dtype \n",
      "---  ------  --------------  ----- \n",
      " 0   word    92184 non-null  object\n",
      " 1   pos     92186 non-null  object\n",
      "dtypes: object(2)\n",
      "memory usage: 1.5+ MB\n"
     ]
    }
   ],
   "source": [
    "import pandas as pd\n",
    "\n",
    "dfpos = pd.read_csv('train_pos.txt', sep='\\t', skip_blank_lines=False, encoding='ISO-8859-1')\n",
    "dfpos.info()"
   ]
  },
  {
   "cell_type": "code",
   "execution_count": 3,
   "metadata": {},
   "outputs": [
    {
     "data": {
      "text/plain": [
       "(96274, 2)"
      ]
     },
     "execution_count": 3,
     "metadata": {},
     "output_type": "execute_result"
    }
   ],
   "source": [
    "dfpos.shape"
   ]
  },
  {
   "cell_type": "code",
   "execution_count": 26,
   "metadata": {},
   "outputs": [
    {
     "name": "stdout",
     "output_type": "stream",
     "text": [
      "<class 'pandas.core.frame.DataFrame'>\n",
      "RangeIndex: 41877 entries, 0 to 41876\n",
      "Data columns (total 3 columns):\n",
      " #   Column  Non-Null Count  Dtype \n",
      "---  ------  --------------  ----- \n",
      " 0   word_x  40077 non-null  object\n",
      " 1   pos     40077 non-null  object\n",
      " 2   tag     40077 non-null  object\n",
      "dtypes: object(3)\n",
      "memory usage: 981.6+ KB\n"
     ]
    }
   ],
   "source": [
    "import pandas as pd\n",
    "dfner = pd.read_csv('javanese-ner-kel6(2).txt', sep='\\t', skip_blank_lines=False, encoding='ISO-8859-1')\n",
    "dfner.info()"
   ]
  },
  {
   "cell_type": "code",
   "execution_count": 27,
   "metadata": {},
   "outputs": [
    {
     "data": {
      "text/plain": [
       "(41877, 3)"
      ]
     },
     "execution_count": 27,
     "metadata": {},
     "output_type": "execute_result"
    }
   ],
   "source": [
    "dfner.shape"
   ]
  },
  {
   "cell_type": "code",
   "execution_count": 8,
   "metadata": {},
   "outputs": [
    {
     "ename": "NameError",
     "evalue": "name 'dfpos' is not defined",
     "output_type": "error",
     "traceback": [
      "\u001b[0;31m---------------------------------------------------------------------------\u001b[0m",
      "\u001b[0;31mNameError\u001b[0m                                 Traceback (most recent call last)",
      "Cell \u001b[0;32mIn[8], line 1\u001b[0m\n\u001b[0;32m----> 1\u001b[0m df \u001b[38;5;241m=\u001b[39m pd\u001b[38;5;241m.\u001b[39mmerge(\u001b[43mdfpos\u001b[49m, dfner,left_index\u001b[38;5;241m=\u001b[39m\u001b[38;5;28;01mTrue\u001b[39;00m,right_index\u001b[38;5;241m=\u001b[39m\u001b[38;5;28;01mTrue\u001b[39;00m, how\u001b[38;5;241m=\u001b[39m\u001b[38;5;124m\"\u001b[39m\u001b[38;5;124mleft\u001b[39m\u001b[38;5;124m\"\u001b[39m)\n",
      "\u001b[0;31mNameError\u001b[0m: name 'dfpos' is not defined"
     ]
    }
   ],
   "source": [
    "df = pd.merge(dfpos, dfner,left_index=True,right_index=True, how=\"left\")"
   ]
  },
  {
   "cell_type": "code",
   "execution_count": 7,
   "metadata": {},
   "outputs": [
    {
     "data": {
      "text/plain": [
       "(96274, 4)"
      ]
     },
     "execution_count": 7,
     "metadata": {},
     "output_type": "execute_result"
    }
   ],
   "source": [
    "df.shape"
   ]
  },
  {
   "cell_type": "code",
   "execution_count": 28,
   "metadata": {},
   "outputs": [
    {
     "data": {
      "text/html": [
       "<div>\n",
       "<style scoped>\n",
       "    .dataframe tbody tr th:only-of-type {\n",
       "        vertical-align: middle;\n",
       "    }\n",
       "\n",
       "    .dataframe tbody tr th {\n",
       "        vertical-align: top;\n",
       "    }\n",
       "\n",
       "    .dataframe thead th {\n",
       "        text-align: right;\n",
       "    }\n",
       "</style>\n",
       "<table border=\"1\" class=\"dataframe\">\n",
       "  <thead>\n",
       "    <tr style=\"text-align: right;\">\n",
       "      <th></th>\n",
       "      <th>word_x</th>\n",
       "      <th>pos</th>\n",
       "      <th>tag</th>\n",
       "    </tr>\n",
       "  </thead>\n",
       "  <tbody>\n",
       "    <tr>\n",
       "      <th>0</th>\n",
       "      <td>Kementerian</td>\n",
       "      <td></td>\n",
       "      <td>B-ORG</td>\n",
       "    </tr>\n",
       "    <tr>\n",
       "      <th>1</th>\n",
       "      <td>pendidikan</td>\n",
       "      <td></td>\n",
       "      <td>I-ORG</td>\n",
       "    </tr>\n",
       "    <tr>\n",
       "      <th>2</th>\n",
       "      <td>dan</td>\n",
       "      <td></td>\n",
       "      <td>I-ORG</td>\n",
       "    </tr>\n",
       "    <tr>\n",
       "      <th>3</th>\n",
       "      <td>kebudayaan</td>\n",
       "      <td></td>\n",
       "      <td>L-ORG</td>\n",
       "    </tr>\n",
       "    <tr>\n",
       "      <th>4</th>\n",
       "      <td>,</td>\n",
       "      <td></td>\n",
       "      <td>O</td>\n",
       "    </tr>\n",
       "  </tbody>\n",
       "</table>\n",
       "</div>"
      ],
      "text/plain": [
       "        word_x pos    tag\n",
       "0  Kementerian      B-ORG\n",
       "1   pendidikan      I-ORG\n",
       "2          dan      I-ORG\n",
       "3   kebudayaan      L-ORG\n",
       "4            ,          O"
      ]
     },
     "execution_count": 28,
     "metadata": {},
     "output_type": "execute_result"
    }
   ],
   "source": [
    "dfner.head()\n"
   ]
  },
  {
   "cell_type": "code",
   "execution_count": 9,
   "metadata": {},
   "outputs": [],
   "source": [
    "df = df.drop(['word_y'], axis=1)"
   ]
  },
  {
   "cell_type": "code",
   "execution_count": 10,
   "metadata": {},
   "outputs": [
    {
     "data": {
      "text/html": [
       "<div>\n",
       "<style scoped>\n",
       "    .dataframe tbody tr th:only-of-type {\n",
       "        vertical-align: middle;\n",
       "    }\n",
       "\n",
       "    .dataframe tbody tr th {\n",
       "        vertical-align: top;\n",
       "    }\n",
       "\n",
       "    .dataframe thead th {\n",
       "        text-align: right;\n",
       "    }\n",
       "</style>\n",
       "<table border=\"1\" class=\"dataframe\">\n",
       "  <thead>\n",
       "    <tr style=\"text-align: right;\">\n",
       "      <th></th>\n",
       "      <th>word_x</th>\n",
       "      <th>pos</th>\n",
       "      <th>tag</th>\n",
       "    </tr>\n",
       "  </thead>\n",
       "  <tbody>\n",
       "    <tr>\n",
       "      <th>0</th>\n",
       "      <td>kepala</td>\n",
       "      <td>B-NNO</td>\n",
       "      <td>O</td>\n",
       "    </tr>\n",
       "    <tr>\n",
       "      <th>1</th>\n",
       "      <td>dinas</td>\n",
       "      <td>B-VBP</td>\n",
       "      <td>O</td>\n",
       "    </tr>\n",
       "    <tr>\n",
       "      <th>2</th>\n",
       "      <td>tata</td>\n",
       "      <td>B-NNO</td>\n",
       "      <td>O</td>\n",
       "    </tr>\n",
       "    <tr>\n",
       "      <th>3</th>\n",
       "      <td>kota</td>\n",
       "      <td>B-NNO</td>\n",
       "      <td>O</td>\n",
       "    </tr>\n",
       "    <tr>\n",
       "      <th>4</th>\n",
       "      <td>manado</td>\n",
       "      <td>B-NNP</td>\n",
       "      <td>B-PLC</td>\n",
       "    </tr>\n",
       "  </tbody>\n",
       "</table>\n",
       "</div>"
      ],
      "text/plain": [
       "   word_x    pos    tag\n",
       "0  kepala  B-NNO      O\n",
       "1   dinas  B-VBP      O\n",
       "2    tata  B-NNO      O\n",
       "3    kota  B-NNO      O\n",
       "4  manado  B-NNP  B-PLC"
      ]
     },
     "execution_count": 10,
     "metadata": {},
     "output_type": "execute_result"
    }
   ],
   "source": [
    "dfner.head()"
   ]
  },
  {
   "cell_type": "code",
   "execution_count": 29,
   "metadata": {},
   "outputs": [
    {
     "data": {
      "text/plain": [
       "(2970, 1, 73)"
      ]
     },
     "execution_count": 29,
     "metadata": {},
     "output_type": "execute_result"
    }
   ],
   "source": [
    "dfner.word_x.nunique(), dfner.pos.nunique(), dfner.tag.nunique()"
   ]
  },
  {
   "cell_type": "markdown",
   "metadata": {},
   "source": [
    "We have 47959 sentences that contain 35178 unique words.\n",
    "\n",
    "These sentences have a total of 42 unique POS tags and 17 unique NER tags in total."
   ]
  },
  {
   "cell_type": "markdown",
   "metadata": {},
   "source": [
    "## Tag Distribution\n",
    "\n",
    "The NERP NER Prosa dataset utilizes IOB tagging or _Inside, Outside Beginning_. IOB is a common tagging format for tagging tokens which we have discussed earlier. To refresh your memory:\n",
    "\n",
    "+ __I- prefix__ before a tag indicates that the tag is inside a chunk.\n",
    "+ __B- prefix__ before a tag indicates that the tag is the beginning of a chunk.\n",
    "+ __O-  tag__ indicates that a token belongs to no chunk (outside).\n",
    "\n",
    "The tags in this dataset are explained as follows:\n",
    "\n",
    "+ __ppl__ = Person\n",
    "+ __plc__ = Place\n",
    "+ __ind__ = Industrial\n",
    "+ __evt__ = Event\n",
    "+ __fnb__ = Food and Beverages\n",
    "\n",
    "Anything outside these classes is termed as other, denoted as __O__. \n",
    "\n",
    "The following output shows the unbalanced distribution of different tags in the dataset"
   ]
  },
  {
   "cell_type": "code",
   "execution_count": 30,
   "metadata": {},
   "outputs": [
    {
     "data": {
      "text/plain": [
       "tag\n",
       "O             32304\n",
       "U-GPE           732\n",
       "I-ORG           487\n",
       "B-GPE           365\n",
       "L-GPE           365\n",
       "              ...  \n",
       "I-ORDINAL         3\n",
       "I-TIME            2\n",
       "I-LAW             2\n",
       "I-LANGUAGE        1\n",
       "U-LAW             1\n",
       "Name: count, Length: 73, dtype: int64"
      ]
     },
     "execution_count": 30,
     "metadata": {},
     "output_type": "execute_result"
    }
   ],
   "source": [
    "dfner.tag.value_counts()"
   ]
  },
  {
   "cell_type": "code",
   "execution_count": 31,
   "metadata": {},
   "outputs": [
    {
     "data": {
      "text/html": [
       "<div>\n",
       "<style scoped>\n",
       "    .dataframe tbody tr th:only-of-type {\n",
       "        vertical-align: middle;\n",
       "    }\n",
       "\n",
       "    .dataframe tbody tr th {\n",
       "        vertical-align: top;\n",
       "    }\n",
       "\n",
       "    .dataframe thead th {\n",
       "        text-align: right;\n",
       "    }\n",
       "</style>\n",
       "<table border=\"1\" class=\"dataframe\">\n",
       "  <thead>\n",
       "    <tr style=\"text-align: right;\">\n",
       "      <th></th>\n",
       "      <th>word_x</th>\n",
       "      <th>pos</th>\n",
       "      <th>tag</th>\n",
       "    </tr>\n",
       "  </thead>\n",
       "  <tbody>\n",
       "    <tr>\n",
       "      <th>0</th>\n",
       "      <td>Kementerian</td>\n",
       "      <td></td>\n",
       "      <td>B-ORG</td>\n",
       "    </tr>\n",
       "    <tr>\n",
       "      <th>1</th>\n",
       "      <td>pendidikan</td>\n",
       "      <td></td>\n",
       "      <td>I-ORG</td>\n",
       "    </tr>\n",
       "    <tr>\n",
       "      <th>2</th>\n",
       "      <td>dan</td>\n",
       "      <td></td>\n",
       "      <td>I-ORG</td>\n",
       "    </tr>\n",
       "    <tr>\n",
       "      <th>3</th>\n",
       "      <td>kebudayaan</td>\n",
       "      <td></td>\n",
       "      <td>L-ORG</td>\n",
       "    </tr>\n",
       "    <tr>\n",
       "      <th>4</th>\n",
       "      <td>,</td>\n",
       "      <td></td>\n",
       "      <td>O</td>\n",
       "    </tr>\n",
       "    <tr>\n",
       "      <th>5</th>\n",
       "      <td>kemendikbud</td>\n",
       "      <td></td>\n",
       "      <td>U-ORG</td>\n",
       "    </tr>\n",
       "    <tr>\n",
       "      <th>6</th>\n",
       "      <td>nedheng</td>\n",
       "      <td></td>\n",
       "      <td>O</td>\n",
       "    </tr>\n",
       "    <tr>\n",
       "      <th>7</th>\n",
       "      <td>mbiwarakaken</td>\n",
       "      <td></td>\n",
       "      <td>O</td>\n",
       "    </tr>\n",
       "    <tr>\n",
       "      <th>8</th>\n",
       "      <td>program</td>\n",
       "      <td></td>\n",
       "      <td>O</td>\n",
       "    </tr>\n",
       "    <tr>\n",
       "      <th>9</th>\n",
       "      <td>pertukaran</td>\n",
       "      <td></td>\n",
       "      <td>O</td>\n",
       "    </tr>\n",
       "    <tr>\n",
       "      <th>10</th>\n",
       "      <td>kepala</td>\n",
       "      <td></td>\n",
       "      <td>O</td>\n",
       "    </tr>\n",
       "    <tr>\n",
       "      <th>11</th>\n",
       "      <td>sekolah</td>\n",
       "      <td></td>\n",
       "      <td>O</td>\n",
       "    </tr>\n",
       "    <tr>\n",
       "      <th>12</th>\n",
       "      <td>kangge</td>\n",
       "      <td></td>\n",
       "      <td>O</td>\n",
       "    </tr>\n",
       "    <tr>\n",
       "      <th>13</th>\n",
       "      <td>sekolah</td>\n",
       "      <td></td>\n",
       "      <td>O</td>\n",
       "    </tr>\n",
       "    <tr>\n",
       "      <th>14</th>\n",
       "      <td>-</td>\n",
       "      <td></td>\n",
       "      <td>O</td>\n",
       "    </tr>\n",
       "    <tr>\n",
       "      <th>15</th>\n",
       "      <td>sekolah</td>\n",
       "      <td></td>\n",
       "      <td>O</td>\n",
       "    </tr>\n",
       "    <tr>\n",
       "      <th>16</th>\n",
       "      <td>maju</td>\n",
       "      <td></td>\n",
       "      <td>O</td>\n",
       "    </tr>\n",
       "    <tr>\n",
       "      <th>17</th>\n",
       "      <td>lan</td>\n",
       "      <td></td>\n",
       "      <td>O</td>\n",
       "    </tr>\n",
       "    <tr>\n",
       "      <th>18</th>\n",
       "      <td>berpotensi</td>\n",
       "      <td></td>\n",
       "      <td>O</td>\n",
       "    </tr>\n",
       "    <tr>\n",
       "      <th>19</th>\n",
       "      <td>maju</td>\n",
       "      <td></td>\n",
       "      <td>O</td>\n",
       "    </tr>\n",
       "    <tr>\n",
       "      <th>20</th>\n",
       "      <td>kaliyan</td>\n",
       "      <td></td>\n",
       "      <td>O</td>\n",
       "    </tr>\n",
       "    <tr>\n",
       "      <th>21</th>\n",
       "      <td>sekolah</td>\n",
       "      <td></td>\n",
       "      <td>O</td>\n",
       "    </tr>\n",
       "    <tr>\n",
       "      <th>22</th>\n",
       "      <td>ingkang</td>\n",
       "      <td></td>\n",
       "      <td>O</td>\n",
       "    </tr>\n",
       "    <tr>\n",
       "      <th>23</th>\n",
       "      <td>dumunung</td>\n",
       "      <td></td>\n",
       "      <td>O</td>\n",
       "    </tr>\n",
       "    <tr>\n",
       "      <th>24</th>\n",
       "      <td>ing</td>\n",
       "      <td></td>\n",
       "      <td>O</td>\n",
       "    </tr>\n",
       "    <tr>\n",
       "      <th>25</th>\n",
       "      <td>daerah</td>\n",
       "      <td></td>\n",
       "      <td>O</td>\n",
       "    </tr>\n",
       "    <tr>\n",
       "      <th>26</th>\n",
       "      <td>terdepan</td>\n",
       "      <td></td>\n",
       "      <td>O</td>\n",
       "    </tr>\n",
       "    <tr>\n",
       "      <th>27</th>\n",
       "      <td>,</td>\n",
       "      <td></td>\n",
       "      <td>O</td>\n",
       "    </tr>\n",
       "  </tbody>\n",
       "</table>\n",
       "</div>"
      ],
      "text/plain": [
       "          word_x pos    tag\n",
       "0    Kementerian      B-ORG\n",
       "1     pendidikan      I-ORG\n",
       "2            dan      I-ORG\n",
       "3     kebudayaan      L-ORG\n",
       "4              ,          O\n",
       "5    kemendikbud      U-ORG\n",
       "6        nedheng          O\n",
       "7   mbiwarakaken          O\n",
       "8        program          O\n",
       "9     pertukaran          O\n",
       "10        kepala          O\n",
       "11       sekolah          O\n",
       "12        kangge          O\n",
       "13       sekolah          O\n",
       "14             -          O\n",
       "15       sekolah          O\n",
       "16          maju          O\n",
       "17           lan          O\n",
       "18    berpotensi          O\n",
       "19          maju          O\n",
       "20       kaliyan          O\n",
       "21       sekolah          O\n",
       "22       ingkang          O\n",
       "23      dumunung          O\n",
       "24           ing          O\n",
       "25        daerah          O\n",
       "26      terdepan          O\n",
       "27             ,          O"
      ]
     },
     "execution_count": 31,
     "metadata": {},
     "output_type": "execute_result"
    }
   ],
   "source": [
    "dfner.head(28)"
   ]
  },
  {
   "cell_type": "code",
   "execution_count": 32,
   "metadata": {},
   "outputs": [],
   "source": [
    "dfner['sentence'] = dfner.isnull().all(axis=1).cumsum()"
   ]
  },
  {
   "cell_type": "code",
   "execution_count": 33,
   "metadata": {},
   "outputs": [
    {
     "data": {
      "text/html": [
       "<div>\n",
       "<style scoped>\n",
       "    .dataframe tbody tr th:only-of-type {\n",
       "        vertical-align: middle;\n",
       "    }\n",
       "\n",
       "    .dataframe tbody tr th {\n",
       "        vertical-align: top;\n",
       "    }\n",
       "\n",
       "    .dataframe thead th {\n",
       "        text-align: right;\n",
       "    }\n",
       "</style>\n",
       "<table border=\"1\" class=\"dataframe\">\n",
       "  <thead>\n",
       "    <tr style=\"text-align: right;\">\n",
       "      <th></th>\n",
       "      <th>word_x</th>\n",
       "      <th>pos</th>\n",
       "      <th>tag</th>\n",
       "      <th>sentence</th>\n",
       "    </tr>\n",
       "  </thead>\n",
       "  <tbody>\n",
       "    <tr>\n",
       "      <th>0</th>\n",
       "      <td>Kementerian</td>\n",
       "      <td></td>\n",
       "      <td>B-ORG</td>\n",
       "      <td>0</td>\n",
       "    </tr>\n",
       "    <tr>\n",
       "      <th>1</th>\n",
       "      <td>pendidikan</td>\n",
       "      <td></td>\n",
       "      <td>I-ORG</td>\n",
       "      <td>0</td>\n",
       "    </tr>\n",
       "    <tr>\n",
       "      <th>2</th>\n",
       "      <td>dan</td>\n",
       "      <td></td>\n",
       "      <td>I-ORG</td>\n",
       "      <td>0</td>\n",
       "    </tr>\n",
       "    <tr>\n",
       "      <th>3</th>\n",
       "      <td>kebudayaan</td>\n",
       "      <td></td>\n",
       "      <td>L-ORG</td>\n",
       "      <td>0</td>\n",
       "    </tr>\n",
       "    <tr>\n",
       "      <th>4</th>\n",
       "      <td>,</td>\n",
       "      <td></td>\n",
       "      <td>O</td>\n",
       "      <td>0</td>\n",
       "    </tr>\n",
       "    <tr>\n",
       "      <th>5</th>\n",
       "      <td>kemendikbud</td>\n",
       "      <td></td>\n",
       "      <td>U-ORG</td>\n",
       "      <td>0</td>\n",
       "    </tr>\n",
       "    <tr>\n",
       "      <th>6</th>\n",
       "      <td>nedheng</td>\n",
       "      <td></td>\n",
       "      <td>O</td>\n",
       "      <td>0</td>\n",
       "    </tr>\n",
       "    <tr>\n",
       "      <th>7</th>\n",
       "      <td>mbiwarakaken</td>\n",
       "      <td></td>\n",
       "      <td>O</td>\n",
       "      <td>0</td>\n",
       "    </tr>\n",
       "    <tr>\n",
       "      <th>8</th>\n",
       "      <td>program</td>\n",
       "      <td></td>\n",
       "      <td>O</td>\n",
       "      <td>0</td>\n",
       "    </tr>\n",
       "    <tr>\n",
       "      <th>9</th>\n",
       "      <td>pertukaran</td>\n",
       "      <td></td>\n",
       "      <td>O</td>\n",
       "      <td>0</td>\n",
       "    </tr>\n",
       "    <tr>\n",
       "      <th>10</th>\n",
       "      <td>kepala</td>\n",
       "      <td></td>\n",
       "      <td>O</td>\n",
       "      <td>0</td>\n",
       "    </tr>\n",
       "    <tr>\n",
       "      <th>11</th>\n",
       "      <td>sekolah</td>\n",
       "      <td></td>\n",
       "      <td>O</td>\n",
       "      <td>0</td>\n",
       "    </tr>\n",
       "    <tr>\n",
       "      <th>12</th>\n",
       "      <td>kangge</td>\n",
       "      <td></td>\n",
       "      <td>O</td>\n",
       "      <td>0</td>\n",
       "    </tr>\n",
       "    <tr>\n",
       "      <th>13</th>\n",
       "      <td>sekolah</td>\n",
       "      <td></td>\n",
       "      <td>O</td>\n",
       "      <td>0</td>\n",
       "    </tr>\n",
       "    <tr>\n",
       "      <th>14</th>\n",
       "      <td>-</td>\n",
       "      <td></td>\n",
       "      <td>O</td>\n",
       "      <td>0</td>\n",
       "    </tr>\n",
       "    <tr>\n",
       "      <th>15</th>\n",
       "      <td>sekolah</td>\n",
       "      <td></td>\n",
       "      <td>O</td>\n",
       "      <td>0</td>\n",
       "    </tr>\n",
       "    <tr>\n",
       "      <th>16</th>\n",
       "      <td>maju</td>\n",
       "      <td></td>\n",
       "      <td>O</td>\n",
       "      <td>0</td>\n",
       "    </tr>\n",
       "    <tr>\n",
       "      <th>17</th>\n",
       "      <td>lan</td>\n",
       "      <td></td>\n",
       "      <td>O</td>\n",
       "      <td>0</td>\n",
       "    </tr>\n",
       "    <tr>\n",
       "      <th>18</th>\n",
       "      <td>berpotensi</td>\n",
       "      <td></td>\n",
       "      <td>O</td>\n",
       "      <td>0</td>\n",
       "    </tr>\n",
       "    <tr>\n",
       "      <th>19</th>\n",
       "      <td>maju</td>\n",
       "      <td></td>\n",
       "      <td>O</td>\n",
       "      <td>0</td>\n",
       "    </tr>\n",
       "    <tr>\n",
       "      <th>20</th>\n",
       "      <td>kaliyan</td>\n",
       "      <td></td>\n",
       "      <td>O</td>\n",
       "      <td>0</td>\n",
       "    </tr>\n",
       "    <tr>\n",
       "      <th>21</th>\n",
       "      <td>sekolah</td>\n",
       "      <td></td>\n",
       "      <td>O</td>\n",
       "      <td>0</td>\n",
       "    </tr>\n",
       "    <tr>\n",
       "      <th>22</th>\n",
       "      <td>ingkang</td>\n",
       "      <td></td>\n",
       "      <td>O</td>\n",
       "      <td>0</td>\n",
       "    </tr>\n",
       "    <tr>\n",
       "      <th>23</th>\n",
       "      <td>dumunung</td>\n",
       "      <td></td>\n",
       "      <td>O</td>\n",
       "      <td>0</td>\n",
       "    </tr>\n",
       "    <tr>\n",
       "      <th>24</th>\n",
       "      <td>ing</td>\n",
       "      <td></td>\n",
       "      <td>O</td>\n",
       "      <td>0</td>\n",
       "    </tr>\n",
       "    <tr>\n",
       "      <th>25</th>\n",
       "      <td>daerah</td>\n",
       "      <td></td>\n",
       "      <td>O</td>\n",
       "      <td>0</td>\n",
       "    </tr>\n",
       "    <tr>\n",
       "      <th>26</th>\n",
       "      <td>terdepan</td>\n",
       "      <td></td>\n",
       "      <td>O</td>\n",
       "      <td>0</td>\n",
       "    </tr>\n",
       "    <tr>\n",
       "      <th>27</th>\n",
       "      <td>,</td>\n",
       "      <td></td>\n",
       "      <td>O</td>\n",
       "      <td>0</td>\n",
       "    </tr>\n",
       "  </tbody>\n",
       "</table>\n",
       "</div>"
      ],
      "text/plain": [
       "          word_x pos    tag  sentence\n",
       "0    Kementerian      B-ORG         0\n",
       "1     pendidikan      I-ORG         0\n",
       "2            dan      I-ORG         0\n",
       "3     kebudayaan      L-ORG         0\n",
       "4              ,          O         0\n",
       "5    kemendikbud      U-ORG         0\n",
       "6        nedheng          O         0\n",
       "7   mbiwarakaken          O         0\n",
       "8        program          O         0\n",
       "9     pertukaran          O         0\n",
       "10        kepala          O         0\n",
       "11       sekolah          O         0\n",
       "12        kangge          O         0\n",
       "13       sekolah          O         0\n",
       "14             -          O         0\n",
       "15       sekolah          O         0\n",
       "16          maju          O         0\n",
       "17           lan          O         0\n",
       "18    berpotensi          O         0\n",
       "19          maju          O         0\n",
       "20       kaliyan          O         0\n",
       "21       sekolah          O         0\n",
       "22       ingkang          O         0\n",
       "23      dumunung          O         0\n",
       "24           ing          O         0\n",
       "25        daerah          O         0\n",
       "26      terdepan          O         0\n",
       "27             ,          O         0"
      ]
     },
     "execution_count": 33,
     "metadata": {},
     "output_type": "execute_result"
    }
   ],
   "source": [
    "dfner.head(28)"
   ]
  },
  {
   "cell_type": "code",
   "execution_count": 16,
   "metadata": {},
   "outputs": [],
   "source": [
    "#d = {i: df.loc[df.sentence == i, ['word_x', 'pos','tag']] for i in range(0, df.sentence.iat[-1])}"
   ]
  },
  {
   "cell_type": "code",
   "execution_count": 34,
   "metadata": {},
   "outputs": [],
   "source": [
    "df_new = dfner.dropna()"
   ]
  },
  {
   "cell_type": "code",
   "execution_count": 35,
   "metadata": {},
   "outputs": [
    {
     "data": {
      "text/html": [
       "<div>\n",
       "<style scoped>\n",
       "    .dataframe tbody tr th:only-of-type {\n",
       "        vertical-align: middle;\n",
       "    }\n",
       "\n",
       "    .dataframe tbody tr th {\n",
       "        vertical-align: top;\n",
       "    }\n",
       "\n",
       "    .dataframe thead th {\n",
       "        text-align: right;\n",
       "    }\n",
       "</style>\n",
       "<table border=\"1\" class=\"dataframe\">\n",
       "  <thead>\n",
       "    <tr style=\"text-align: right;\">\n",
       "      <th></th>\n",
       "      <th>word_x</th>\n",
       "      <th>pos</th>\n",
       "      <th>tag</th>\n",
       "      <th>sentence</th>\n",
       "    </tr>\n",
       "  </thead>\n",
       "  <tbody>\n",
       "    <tr>\n",
       "      <th>0</th>\n",
       "      <td>Kementerian</td>\n",
       "      <td></td>\n",
       "      <td>B-ORG</td>\n",
       "      <td>0</td>\n",
       "    </tr>\n",
       "    <tr>\n",
       "      <th>1</th>\n",
       "      <td>pendidikan</td>\n",
       "      <td></td>\n",
       "      <td>I-ORG</td>\n",
       "      <td>0</td>\n",
       "    </tr>\n",
       "    <tr>\n",
       "      <th>2</th>\n",
       "      <td>dan</td>\n",
       "      <td></td>\n",
       "      <td>I-ORG</td>\n",
       "      <td>0</td>\n",
       "    </tr>\n",
       "    <tr>\n",
       "      <th>3</th>\n",
       "      <td>kebudayaan</td>\n",
       "      <td></td>\n",
       "      <td>L-ORG</td>\n",
       "      <td>0</td>\n",
       "    </tr>\n",
       "    <tr>\n",
       "      <th>4</th>\n",
       "      <td>,</td>\n",
       "      <td></td>\n",
       "      <td>O</td>\n",
       "      <td>0</td>\n",
       "    </tr>\n",
       "    <tr>\n",
       "      <th>5</th>\n",
       "      <td>kemendikbud</td>\n",
       "      <td></td>\n",
       "      <td>U-ORG</td>\n",
       "      <td>0</td>\n",
       "    </tr>\n",
       "    <tr>\n",
       "      <th>6</th>\n",
       "      <td>nedheng</td>\n",
       "      <td></td>\n",
       "      <td>O</td>\n",
       "      <td>0</td>\n",
       "    </tr>\n",
       "    <tr>\n",
       "      <th>7</th>\n",
       "      <td>mbiwarakaken</td>\n",
       "      <td></td>\n",
       "      <td>O</td>\n",
       "      <td>0</td>\n",
       "    </tr>\n",
       "    <tr>\n",
       "      <th>8</th>\n",
       "      <td>program</td>\n",
       "      <td></td>\n",
       "      <td>O</td>\n",
       "      <td>0</td>\n",
       "    </tr>\n",
       "    <tr>\n",
       "      <th>9</th>\n",
       "      <td>pertukaran</td>\n",
       "      <td></td>\n",
       "      <td>O</td>\n",
       "      <td>0</td>\n",
       "    </tr>\n",
       "    <tr>\n",
       "      <th>10</th>\n",
       "      <td>kepala</td>\n",
       "      <td></td>\n",
       "      <td>O</td>\n",
       "      <td>0</td>\n",
       "    </tr>\n",
       "    <tr>\n",
       "      <th>11</th>\n",
       "      <td>sekolah</td>\n",
       "      <td></td>\n",
       "      <td>O</td>\n",
       "      <td>0</td>\n",
       "    </tr>\n",
       "    <tr>\n",
       "      <th>12</th>\n",
       "      <td>kangge</td>\n",
       "      <td></td>\n",
       "      <td>O</td>\n",
       "      <td>0</td>\n",
       "    </tr>\n",
       "    <tr>\n",
       "      <th>13</th>\n",
       "      <td>sekolah</td>\n",
       "      <td></td>\n",
       "      <td>O</td>\n",
       "      <td>0</td>\n",
       "    </tr>\n",
       "    <tr>\n",
       "      <th>14</th>\n",
       "      <td>-</td>\n",
       "      <td></td>\n",
       "      <td>O</td>\n",
       "      <td>0</td>\n",
       "    </tr>\n",
       "    <tr>\n",
       "      <th>15</th>\n",
       "      <td>sekolah</td>\n",
       "      <td></td>\n",
       "      <td>O</td>\n",
       "      <td>0</td>\n",
       "    </tr>\n",
       "    <tr>\n",
       "      <th>16</th>\n",
       "      <td>maju</td>\n",
       "      <td></td>\n",
       "      <td>O</td>\n",
       "      <td>0</td>\n",
       "    </tr>\n",
       "    <tr>\n",
       "      <th>17</th>\n",
       "      <td>lan</td>\n",
       "      <td></td>\n",
       "      <td>O</td>\n",
       "      <td>0</td>\n",
       "    </tr>\n",
       "    <tr>\n",
       "      <th>18</th>\n",
       "      <td>berpotensi</td>\n",
       "      <td></td>\n",
       "      <td>O</td>\n",
       "      <td>0</td>\n",
       "    </tr>\n",
       "    <tr>\n",
       "      <th>19</th>\n",
       "      <td>maju</td>\n",
       "      <td></td>\n",
       "      <td>O</td>\n",
       "      <td>0</td>\n",
       "    </tr>\n",
       "    <tr>\n",
       "      <th>20</th>\n",
       "      <td>kaliyan</td>\n",
       "      <td></td>\n",
       "      <td>O</td>\n",
       "      <td>0</td>\n",
       "    </tr>\n",
       "    <tr>\n",
       "      <th>21</th>\n",
       "      <td>sekolah</td>\n",
       "      <td></td>\n",
       "      <td>O</td>\n",
       "      <td>0</td>\n",
       "    </tr>\n",
       "    <tr>\n",
       "      <th>22</th>\n",
       "      <td>ingkang</td>\n",
       "      <td></td>\n",
       "      <td>O</td>\n",
       "      <td>0</td>\n",
       "    </tr>\n",
       "    <tr>\n",
       "      <th>23</th>\n",
       "      <td>dumunung</td>\n",
       "      <td></td>\n",
       "      <td>O</td>\n",
       "      <td>0</td>\n",
       "    </tr>\n",
       "    <tr>\n",
       "      <th>24</th>\n",
       "      <td>ing</td>\n",
       "      <td></td>\n",
       "      <td>O</td>\n",
       "      <td>0</td>\n",
       "    </tr>\n",
       "    <tr>\n",
       "      <th>25</th>\n",
       "      <td>daerah</td>\n",
       "      <td></td>\n",
       "      <td>O</td>\n",
       "      <td>0</td>\n",
       "    </tr>\n",
       "    <tr>\n",
       "      <th>26</th>\n",
       "      <td>terdepan</td>\n",
       "      <td></td>\n",
       "      <td>O</td>\n",
       "      <td>0</td>\n",
       "    </tr>\n",
       "    <tr>\n",
       "      <th>27</th>\n",
       "      <td>,</td>\n",
       "      <td></td>\n",
       "      <td>O</td>\n",
       "      <td>0</td>\n",
       "    </tr>\n",
       "  </tbody>\n",
       "</table>\n",
       "</div>"
      ],
      "text/plain": [
       "          word_x pos    tag  sentence\n",
       "0    Kementerian      B-ORG         0\n",
       "1     pendidikan      I-ORG         0\n",
       "2            dan      I-ORG         0\n",
       "3     kebudayaan      L-ORG         0\n",
       "4              ,          O         0\n",
       "5    kemendikbud      U-ORG         0\n",
       "6        nedheng          O         0\n",
       "7   mbiwarakaken          O         0\n",
       "8        program          O         0\n",
       "9     pertukaran          O         0\n",
       "10        kepala          O         0\n",
       "11       sekolah          O         0\n",
       "12        kangge          O         0\n",
       "13       sekolah          O         0\n",
       "14             -          O         0\n",
       "15       sekolah          O         0\n",
       "16          maju          O         0\n",
       "17           lan          O         0\n",
       "18    berpotensi          O         0\n",
       "19          maju          O         0\n",
       "20       kaliyan          O         0\n",
       "21       sekolah          O         0\n",
       "22       ingkang          O         0\n",
       "23      dumunung          O         0\n",
       "24           ing          O         0\n",
       "25        daerah          O         0\n",
       "26      terdepan          O         0\n",
       "27             ,          O         0"
      ]
     },
     "execution_count": 35,
     "metadata": {},
     "output_type": "execute_result"
    }
   ],
   "source": [
    "df_new.head(28)"
   ]
  },
  {
   "cell_type": "code",
   "execution_count": 36,
   "metadata": {},
   "outputs": [],
   "source": [
    "\n",
    "# A class to retrieve the sentences from the dataset\n",
    "class getsentence(object):\n",
    "    \n",
    "    def __init__(self, data):\n",
    "        self.n_sent = 1.0\n",
    "        self.data = data\n",
    "        self.empty = False\n",
    "        agg_func = lambda s: [(w, p, t) for w, p, t in zip(s[\"word_x\"].values.tolist(),\n",
    "                                                           s[\"pos\"].values.tolist(),\n",
    "                                                           s[\"tag\"].values.tolist())]\n",
    "        self.grouped = self.data.groupby(\"sentence\").apply(agg_func)\n",
    "        self.sentences = [s for s in self.grouped]\n",
    "\n"
   ]
  },
  {
   "cell_type": "code",
   "execution_count": 37,
   "metadata": {},
   "outputs": [],
   "source": [
    "getter = getsentence(df_new)"
   ]
  },
  {
   "cell_type": "code",
   "execution_count": 38,
   "metadata": {},
   "outputs": [],
   "source": [
    "sentences = getter.sentences"
   ]
  },
  {
   "cell_type": "code",
   "execution_count": 39,
   "metadata": {},
   "outputs": [
    {
     "data": {
      "text/plain": [
       "[('Kementerian', ' ', 'B-ORG'),\n",
       " ('pendidikan', ' ', 'I-ORG'),\n",
       " ('dan', ' ', 'I-ORG'),\n",
       " ('kebudayaan', ' ', 'L-ORG'),\n",
       " (',', ' ', 'O'),\n",
       " ('kemendikbud', ' ', 'U-ORG'),\n",
       " ('nedheng', ' ', 'O'),\n",
       " ('mbiwarakaken', ' ', 'O'),\n",
       " ('program', ' ', 'O'),\n",
       " ('pertukaran', ' ', 'O'),\n",
       " ('kepala', ' ', 'O'),\n",
       " ('sekolah', ' ', 'O'),\n",
       " ('kangge', ' ', 'O'),\n",
       " ('sekolah', ' ', 'O'),\n",
       " ('-', ' ', 'O'),\n",
       " ('sekolah', ' ', 'O'),\n",
       " ('maju', ' ', 'O'),\n",
       " ('lan', ' ', 'O'),\n",
       " ('berpotensi', ' ', 'O'),\n",
       " ('maju', ' ', 'O'),\n",
       " ('kaliyan', ' ', 'O'),\n",
       " ('sekolah', ' ', 'O'),\n",
       " ('ingkang', ' ', 'O'),\n",
       " ('dumunung', ' ', 'O'),\n",
       " ('ing', ' ', 'O'),\n",
       " ('daerah', ' ', 'O'),\n",
       " ('terdepan', ' ', 'O'),\n",
       " (',', ' ', 'O'),\n",
       " ('terluar', ' ', 'O'),\n",
       " ('dan', ' ', 'O'),\n",
       " ('tertinggal', ' ', 'O'),\n",
       " (',', ' ', 'O'),\n",
       " ('3', ' ', 'O'),\n",
       " ('t.', ' ', 'O'),\n",
       " ('Kadosta', ' ', 'O'),\n",
       " ('kepala', ' ', 'O'),\n",
       " ('sekolah', ' ', 'O'),\n",
       " ('sd', ' ', 'B-FAC'),\n",
       " ('inpres', ' ', 'L-FAC'),\n",
       " ('kabupaten', ' ', 'B-GPE'),\n",
       " ('sorong', ' ', 'I-GPE'),\n",
       " ('papua', ' ', 'L-GPE'),\n",
       " ('ingkang', ' ', 'O'),\n",
       " ('samangke', ' ', 'O'),\n",
       " ('nedheng', ' ', 'O'),\n",
       " ('tumut', ' ', 'O'),\n",
       " ('program', ' ', 'O'),\n",
       " ('kasebat', ' ', 'O'),\n",
       " ('ing', ' ', 'O'),\n",
       " ('sd', ' ', 'O'),\n",
       " ('negeri', ' ', 'O'),\n",
       " ('kradenan', ' ', 'U-GPE'),\n",
       " ('kecamatan', ' ', 'B-GPE'),\n",
       " ('trucuk', ' ', 'I-GPE'),\n",
       " ('klaten', ' ', 'L-GPE'),\n",
       " (',', ' ', 'O'),\n",
       " ('sadanguning', ' ', 'O'),\n",
       " ('sedasa', ' ', 'O'),\n",
       " ('dinten', ' ', 'O'),\n",
       " ('.', ' ', 'O')]"
      ]
     },
     "execution_count": 39,
     "metadata": {},
     "output_type": "execute_result"
    }
   ],
   "source": [
    "sentences[0]"
   ]
  },
  {
   "cell_type": "code",
   "execution_count": 40,
   "metadata": {},
   "outputs": [
    {
     "data": {
      "text/plain": [
       "1800"
      ]
     },
     "execution_count": 40,
     "metadata": {},
     "output_type": "execute_result"
    }
   ],
   "source": [
    "len(sentences)"
   ]
  },
  {
   "cell_type": "code",
   "execution_count": 41,
   "metadata": {},
   "outputs": [],
   "source": [
    "train_sents =  sentences[0:1000]\n",
    "test_sents = sentences[1001:]"
   ]
  },
  {
   "cell_type": "code",
   "execution_count": 42,
   "metadata": {},
   "outputs": [
    {
     "data": {
      "text/plain": [
       "1000"
      ]
     },
     "execution_count": 42,
     "metadata": {},
     "output_type": "execute_result"
    }
   ],
   "source": [
    "len(train_sents)"
   ]
  },
  {
   "cell_type": "code",
   "execution_count": 43,
   "metadata": {},
   "outputs": [
    {
     "data": {
      "text/plain": [
       "799"
      ]
     },
     "execution_count": 43,
     "metadata": {},
     "output_type": "execute_result"
    }
   ],
   "source": [
    "len(test_sents)"
   ]
  },
  {
   "cell_type": "markdown",
   "metadata": {},
   "source": [
    "## Conditional Random Fields\n",
    "\n",
    "As mentioned above, NER belongs to sequence modeling class of problems. There are different algorithms to tackle sequence modeling, __CRF__ or _Conditional Random Fields_ are one such example. CRFs are proven to perform extremely well on NER and related domains. In this notebook, we will attempt at developing our own NER based on CRFs.\n",
    "\n",
    "---\n",
    "\n",
    "__Question__: What is a CRF and how does it work?\n",
    "\n",
    "__Wikipedia__ :  CRF is an undirected graphical model whose nodes can be divided into exactly two disjoint sets $X$ and $Y$, the observed and output variables, respectively; the conditional distribution $p(Y|X)$ is then modeled.\n",
    "\n",
    "For more details, checkout the paper [__Conditional Random Fields: Probabilistic Models\n",
    "for Segmenting and Labeling Sequence Data__](https://repository.upenn.edu/cgi/viewcontent.cgi?article=1162&context=cis_papers)"
   ]
  },
  {
   "cell_type": "markdown",
   "metadata": {},
   "source": [
    "## Prepare Data\n",
    "\n",
    "CRF trains upon sequence of input data to learn transitions from one state (label) to another. \n",
    "To enable such an algorithm, we need to define features which take into account different transitions. \n",
    "In the function ```word2features()``` below, we transform each word into a feature dictionary depicting the following attributes or features:\n",
    "\n",
    "+ lower case of word\n",
    "+ suffix containing last 3 characters\n",
    "+ suffix containing last 2 characters\n",
    "+ flags to determine upper-case, title-case, numeric data and POS tag\n",
    "\n",
    "We also attach attributes related to previous and next words or tags to determine beginning of sentence (BOS) or end of sentence (EOS)"
   ]
  },
  {
   "cell_type": "code",
   "execution_count": 44,
   "metadata": {},
   "outputs": [],
   "source": [
    "def word2features(sent, i):\n",
    "    word = sent[i][0]\n",
    "    postag = sent[i][1]\n",
    "    features = [\n",
    "        'bias',\n",
    "        'word.lower=' + word.lower(),\n",
    "        'word[-3:]=' + word[-3:],\n",
    "        'word[-2:]=' + word[-2:],\n",
    "        'word.isupper=%s' % word.isupper(),\n",
    "        'word.istitle=%s' % word.istitle(),\n",
    "        'word.isdigit=%s' % word.isdigit(),\n",
    "        'postag=' + postag,\n",
    "        'postag[:2]=' + postag[:2],\n",
    "    ]\n",
    "    if i > 0:\n",
    "        word1 = sent[i-1][0]\n",
    "        postag1 = sent[i-1][1]\n",
    "        features.extend([\n",
    "            '-1:word.lower=' + word1.lower(),\n",
    "            '-1:word.istitle=%s' % word1.istitle(),\n",
    "            '-1:word.isupper=%s' % word1.isupper(),\n",
    "            '-1:postag=' + postag1,\n",
    "            '-1:postag[:2]=' + postag1[:2],\n",
    "        ])\n",
    "    else:\n",
    "        features.append('BOS')\n",
    "        \n",
    "    if i < len(sent)-1:\n",
    "        word1 = sent[i+1][0]\n",
    "        postag1 = sent[i+1][1]\n",
    "        features.extend([\n",
    "            '+1:word.lower=' + word1.lower(),\n",
    "            '+1:word.istitle=%s' % word1.istitle(),\n",
    "            '+1:word.isupper=%s' % word1.isupper(),\n",
    "            '+1:postag=' + postag1,\n",
    "            '+1:postag[:2]=' + postag1[:2],\n",
    "        ])\n",
    "    else:\n",
    "        features.append('EOS')\n",
    "                \n",
    "    return features\n",
    "\n",
    "\n",
    "def sent2features(sent):\n",
    "    return [word2features(sent, i) for i in range(len(sent))]\n",
    "\n",
    "def sent2labels(sent):\n",
    "    return [label for token, postag, label in sent]\n",
    "\n",
    "def sent2tokens(sent):\n",
    "    return [token for token, postag, label in sent]  "
   ]
  },
  {
   "cell_type": "code",
   "execution_count": 45,
   "metadata": {},
   "outputs": [
    {
     "data": {
      "text/plain": [
       "['bias',\n",
       " 'word.lower=kementerian',\n",
       " 'word[-3:]=ian',\n",
       " 'word[-2:]=an',\n",
       " 'word.isupper=False',\n",
       " 'word.istitle=True',\n",
       " 'word.isdigit=False',\n",
       " 'postag= ',\n",
       " 'postag[:2]= ',\n",
       " 'BOS',\n",
       " '+1:word.lower=pendidikan',\n",
       " '+1:word.istitle=False',\n",
       " '+1:word.isupper=False',\n",
       " '+1:postag= ',\n",
       " '+1:postag[:2]= ']"
      ]
     },
     "execution_count": 45,
     "metadata": {},
     "output_type": "execute_result"
    }
   ],
   "source": [
    "sent2features(train_sents[0])[0]"
   ]
  },
  {
   "cell_type": "code",
   "execution_count": 46,
   "metadata": {},
   "outputs": [
    {
     "name": "stdout",
     "output_type": "stream",
     "text": [
      "CPU times: user 199 ms, sys: 16.8 ms, total: 216 ms\n",
      "Wall time: 214 ms\n"
     ]
    }
   ],
   "source": [
    "\n",
    "\n",
    "%%time\n",
    "X_train = [sent2features(s) for s in train_sents]\n",
    "y_train = [sent2labels(s) for s in train_sents]\n",
    "\n",
    "X_test = [sent2features(s) for s in test_sents]\n",
    "y_test = [sent2labels(s) for s in test_sents]\n",
    "\n"
   ]
  },
  {
   "cell_type": "markdown",
   "metadata": {},
   "source": [
    "# Building Models with pycrfsuite\n"
   ]
  },
  {
   "cell_type": "code",
   "execution_count": 47,
   "metadata": {},
   "outputs": [
    {
     "name": "stdout",
     "output_type": "stream",
     "text": [
      "\u001b[33mWARNING: The directory '/home/jupyter-sigitpurnomo/.cache/pip' or its parent directory is not owned or is not writable by the current user. The cache has been disabled. Check the permissions and owner of that directory. If executing pip with sudo, you should use sudo's -H flag.\u001b[0m\u001b[33m\n",
      "\u001b[0mDefaulting to user installation because normal site-packages is not writeable\n",
      "Requirement already satisfied: python-crfsuite in /home/jupyter-sigitpurnomo/.local/lib/python3.9/site-packages (0.9.9)\n",
      "\n",
      "\u001b[1m[\u001b[0m\u001b[34;49mnotice\u001b[0m\u001b[1;39;49m]\u001b[0m\u001b[39;49m A new release of pip is available: \u001b[0m\u001b[31;49m23.3.1\u001b[0m\u001b[39;49m -> \u001b[0m\u001b[32;49m24.0\u001b[0m\n",
      "\u001b[1m[\u001b[0m\u001b[34;49mnotice\u001b[0m\u001b[1;39;49m]\u001b[0m\u001b[39;49m To update, run: \u001b[0m\u001b[32;49mpip install --upgrade pip\u001b[0m\n"
     ]
    }
   ],
   "source": [
    "#!pip install git+https://github.com/MeMartijn/updated-sklearn-crfsuite.git #egg=sklearn_crfsuite\n",
    "!pip install python-crfsuite"
   ]
  },
  {
   "cell_type": "markdown",
   "metadata": {},
   "source": [
    "# Train the model!\n",
    "\n",
    "To train the model, we create pycrfsuite.Trainer, load the training data and call 'train' method. First, create pycrfsuite.Trainer and load the training data to CRFsuite:"
   ]
  },
  {
   "cell_type": "code",
   "execution_count": 48,
   "metadata": {},
   "outputs": [],
   "source": [
    "import pycrfsuite\n"
   ]
  },
  {
   "cell_type": "code",
   "execution_count": 49,
   "metadata": {},
   "outputs": [
    {
     "name": "stdout",
     "output_type": "stream",
     "text": [
      "CPU times: user 168 ms, sys: 7.04 ms, total: 175 ms\n",
      "Wall time: 175 ms\n"
     ]
    }
   ],
   "source": [
    "%%time\n",
    "trainer = pycrfsuite.Trainer(verbose=False)\n",
    "\n",
    "for xseq, yseq in zip(X_train, y_train):\n",
    "    trainer.append(xseq, yseq)"
   ]
  },
  {
   "cell_type": "code",
   "execution_count": 50,
   "metadata": {},
   "outputs": [],
   "source": [
    "trainer.set_params({\n",
    "    'c1': 1.0,   # coefficient for L1 penalty\n",
    "    'c2': 1e-3,  # coefficient for L2 penalty\n",
    "    'max_iterations': 50,  # stop earlier\n",
    "\n",
    "    # include transitions that are possible, but not observed\n",
    "    'feature.possible_transitions': True\n",
    "})"
   ]
  },
  {
   "cell_type": "code",
   "execution_count": 51,
   "metadata": {},
   "outputs": [
    {
     "name": "stdout",
     "output_type": "stream",
     "text": [
      "CPU times: user 14.7 s, sys: 2.35 ms, total: 14.7 s\n",
      "Wall time: 14.7 s\n"
     ]
    }
   ],
   "source": [
    "\n",
    "%%time\n",
    "trainer.train('id_ner_test')"
   ]
  },
  {
   "cell_type": "code",
   "execution_count": 52,
   "metadata": {},
   "outputs": [
    {
     "data": {
      "text/plain": [
       "{'num': 50,\n",
       " 'scores': {},\n",
       " 'loss': 8136.464438,\n",
       " 'feature_norm': 64.397749,\n",
       " 'error_norm': 641.81458,\n",
       " 'active_features': 5681,\n",
       " 'linesearch_trials': 1,\n",
       " 'linesearch_step': 1.0,\n",
       " 'time': 0.305}"
      ]
     },
     "execution_count": 52,
     "metadata": {},
     "output_type": "execute_result"
    }
   ],
   "source": [
    "trainer.logparser.last_iteration"
   ]
  },
  {
   "cell_type": "code",
   "execution_count": 53,
   "metadata": {},
   "outputs": [
    {
     "name": "stdout",
     "output_type": "stream",
     "text": [
      "50 {'num': 50, 'scores': {}, 'loss': 8136.464438, 'feature_norm': 64.397749, 'error_norm': 641.81458, 'active_features': 5681, 'linesearch_trials': 1, 'linesearch_step': 1.0, 'time': 0.305}\n"
     ]
    }
   ],
   "source": [
    "print(len(trainer.logparser.iterations), trainer.logparser.iterations[-1])"
   ]
  },
  {
   "cell_type": "markdown",
   "metadata": {},
   "source": [
    "\n",
    "## Make predictions\n",
    "\n",
    "To use the trained model, create pycrfsuite.Tagger, open the model and use \"tag\" method:\n"
   ]
  },
  {
   "cell_type": "code",
   "execution_count": 54,
   "metadata": {},
   "outputs": [
    {
     "data": {
      "text/plain": [
       "<contextlib.closing at 0x7f0bfa9c4970>"
      ]
     },
     "execution_count": 54,
     "metadata": {},
     "output_type": "execute_result"
    }
   ],
   "source": [
    "\n",
    "tagger = pycrfsuite.Tagger()\n",
    "tagger.open('id_ner_test')\n"
   ]
  },
  {
   "cell_type": "code",
   "execution_count": 55,
   "metadata": {},
   "outputs": [],
   "source": [
    "def sent2tokens(sent):\n",
    "    return [token for token, postag, label in sent]  "
   ]
  },
  {
   "cell_type": "code",
   "execution_count": 56,
   "metadata": {},
   "outputs": [
    {
     "data": {
      "text/plain": [
       "['bias',\n",
       " 'word.lower=pagelaran',\n",
       " 'word[-3:]=ran',\n",
       " 'word[-2:]=an',\n",
       " 'word.isupper=False',\n",
       " 'word.istitle=True',\n",
       " 'word.isdigit=False',\n",
       " 'postag= ',\n",
       " 'postag[:2]= ',\n",
       " 'BOS',\n",
       " '+1:word.lower=ringgit',\n",
       " '+1:word.istitle=False',\n",
       " '+1:word.isupper=False',\n",
       " '+1:postag= ',\n",
       " '+1:postag[:2]= ']"
      ]
     },
     "execution_count": 56,
     "metadata": {},
     "output_type": "execute_result"
    }
   ],
   "source": [
    "X_test[0][0]"
   ]
  },
  {
   "cell_type": "code",
   "execution_count": 57,
   "metadata": {},
   "outputs": [
    {
     "name": "stdout",
     "output_type": "stream",
     "text": [
      "Pagelaran ringgit purwa sedalu natas , katindakaken dening dhalang Ki Seno Nugroho , mbabar lampahan Semar Seta , kanthi dipun regengaken dagelan , dening Mbok Beruk lan Dalijo .\n",
      "\n",
      "Predicted: O O O O O O O O O O O O O O O O O O O O O O O O B-ORG L-ORG O O O\n",
      "Correct:   O O O O O O O O O B-PERSON I-PERSON L-PERSON O O O O O O O O O O O O B-PERSON I-PERSON I-PERSON L-PERSON O\n"
     ]
    }
   ],
   "source": [
    "\n",
    "\n",
    "example_sent = test_sents[0]\n",
    "print(' '.join(sent2tokens(example_sent)), end='\\n\\n')\n",
    "\n",
    "print(\"Predicted:\", ' '.join(tagger.tag(sent2features(example_sent))))\n",
    "print(\"Correct:  \", ' '.join(sent2labels(example_sent)))\n",
    "\n"
   ]
  },
  {
   "cell_type": "markdown",
   "metadata": {},
   "source": [
    "\n",
    "# Evaluate the model"
   ]
  },
  {
   "cell_type": "code",
   "execution_count": 58,
   "metadata": {},
   "outputs": [],
   "source": [
    "from itertools import chain\n",
    "import nltk\n",
    "from sklearn.metrics import classification_report, confusion_matrix\n",
    "from sklearn.preprocessing import LabelBinarizer\n",
    "import sklearn"
   ]
  },
  {
   "cell_type": "code",
   "execution_count": 59,
   "metadata": {},
   "outputs": [],
   "source": [
    "\n",
    "def bio_classification_report(y_true, y_pred):\n",
    "    \"\"\"\n",
    "    Classification report for a list of BIO-encoded sequences.\n",
    "    It computes token-level metrics and discards \"O\" labels.\n",
    "    \n",
    "    Note that it requires scikit-learn 0.15+ (or a version from github master)\n",
    "    to calculate averages properly!\n",
    "    \"\"\"\n",
    "    lb = LabelBinarizer()\n",
    "    y_true_combined = lb.fit_transform(list(chain.from_iterable(y_true)))\n",
    "    y_pred_combined = lb.transform(list(chain.from_iterable(y_pred)))\n",
    "        \n",
    "    tagset = set(lb.classes_) - {'O'}\n",
    "    tagset = sorted(tagset, key=lambda tag: tag.split('-', 1)[::-1])\n",
    "    class_indices = {cls: idx for idx, cls in enumerate(lb.classes_)}\n",
    "    \n",
    "    return classification_report(\n",
    "        y_true_combined,\n",
    "        y_pred_combined,\n",
    "        labels = [class_indices[cls] for cls in tagset],\n",
    "        target_names = tagset,\n",
    "    )\n"
   ]
  },
  {
   "cell_type": "code",
   "execution_count": 60,
   "metadata": {},
   "outputs": [
    {
     "name": "stdout",
     "output_type": "stream",
     "text": [
      "CPU times: user 295 ms, sys: 12.2 ms, total: 307 ms\n",
      "Wall time: 305 ms\n"
     ]
    }
   ],
   "source": [
    "%%time\n",
    "y_pred = [tagger.tag(xseq) for xseq in X_test]"
   ]
  },
  {
   "cell_type": "code",
   "execution_count": 61,
   "metadata": {},
   "outputs": [
    {
     "name": "stdout",
     "output_type": "stream",
     "text": [
      "               precision    recall  f1-score   support\n",
      "\n",
      "            -       0.00      0.00      0.00        37\n",
      "   B-CARDINAL       0.00      0.00      0.00        10\n",
      "   L-CARDINAL       0.00      0.00      0.00        10\n",
      "   U-CARDINAL       0.08      0.07      0.08        28\n",
      "       B-DATE       0.71      0.44      0.55        79\n",
      "       I-DATE       0.91      0.59      0.72       120\n",
      "       L-DATE       0.88      0.54      0.67        79\n",
      "       U-DATE       0.33      0.43      0.38        14\n",
      "      B-EVENT       0.65      0.38      0.48        91\n",
      "      I-EVENT       0.60      0.43      0.50        79\n",
      "      L-EVENT       0.48      0.29      0.36        91\n",
      "      U-EVENT       0.48      0.41      0.44        54\n",
      "        B-FAC       0.53      0.10      0.17        99\n",
      "        I-FAC       1.00      0.03      0.07        58\n",
      "        L-FAC       0.58      0.11      0.19        99\n",
      "        U-FAC       0.75      0.13      0.22        23\n",
      "        B-GPE       0.64      0.38      0.48       194\n",
      "        I-GPE       0.05      0.06      0.06        16\n",
      "        L-GPE       0.66      0.40      0.50       194\n",
      "        U-GPE       0.55      0.56      0.56       317\n",
      "   U-LANGUAGE       0.00      0.00      0.00         2\n",
      "        B-LAW       0.00      0.00      0.00         2\n",
      "        I-LAW       0.00      0.00      0.00         2\n",
      "        L-LAW       0.00      0.00      0.00         2\n",
      "        U-LAW       0.00      0.00      0.00         1\n",
      "        B-LOC       0.00      0.00      0.00         9\n",
      "        I-LOC       0.00      0.00      0.00         8\n",
      "        L-LOC       0.00      0.00      0.00         9\n",
      "        U-LOC       0.00      0.00      0.00         3\n",
      "      B-MONEY       0.96      0.66      0.78        38\n",
      "      I-MONEY       0.88      0.35      0.50        20\n",
      "      L-MONEY       0.92      0.63      0.75        38\n",
      "      U-MONEY       1.00      1.00      1.00         2\n",
      "       B-NORP       0.00      0.00      0.00        15\n",
      "       I-NORP       0.00      0.00      0.00         1\n",
      "       L-NORP       0.00      0.00      0.00        15\n",
      "       U-NORP       0.00      0.00      0.00         1\n",
      "    B-ORDINAL       0.00      0.00      0.00         4\n",
      "    L-ORDINAL       0.00      0.00      0.00         4\n",
      "    U-ORDINAL       0.00      0.00      0.00        19\n",
      "        B-ORG       0.66      0.48      0.55       159\n",
      "        I-ORG       0.66      0.58      0.61       218\n",
      "        L-ORG       0.49      0.36      0.41       159\n",
      "        U-ORG       0.30      0.44      0.36        39\n",
      "    B-PERCENT       0.00      0.00      0.00         4\n",
      "    I-PERCENT       0.00      0.00      0.00         2\n",
      "    L-PERCENT       0.00      0.00      0.00         4\n",
      "     B-PERSON       0.80      0.66      0.72       123\n",
      "     I-PERSON       0.67      0.57      0.62        61\n",
      "     L-PERSON       0.78      0.64      0.71       123\n",
      "     U-PERSON       0.71      0.50      0.59        60\n",
      "    B-PRODUCT       0.24      0.27      0.25        48\n",
      "    I-PRODUCT       0.17      0.11      0.13        19\n",
      "    L-PRODUCT       0.22      0.25      0.24        48\n",
      "    U-PRODUCT       0.35      0.26      0.30        74\n",
      "   B-QUANTITY       0.70      0.14      0.24        49\n",
      "   I-QUANTITY       0.33      0.17      0.23        23\n",
      "   L-QUANTITY       0.80      0.16      0.27        49\n",
      "   U-QUANTITY       0.00      0.00      0.00        10\n",
      "       B-TIME       0.00      0.00      0.00         3\n",
      "       I-TIME       0.00      0.00      0.00         1\n",
      "       L-TIME       0.00      0.00      0.00         3\n",
      "       U-TIME       0.00      0.00      0.00         6\n",
      "B-WORK_OF_ART       0.33      0.22      0.27        18\n",
      "I-WORK_OF_ART       0.00      0.12      0.01         8\n",
      "L-WORK_OF_ART       0.33      0.22      0.27        18\n",
      "U-WORK_OF_ART       0.00      0.00      0.00         3\n",
      "\n",
      "    micro avg       0.54      0.39      0.45      3219\n",
      "    macro avg       0.33      0.21      0.24      3219\n",
      " weighted avg       0.58      0.39      0.45      3219\n",
      "  samples avg       0.07      0.07      0.07      3219\n",
      "\n"
     ]
    },
    {
     "name": "stderr",
     "output_type": "stream",
     "text": [
      "/home/jupyter-sigitpurnomo/.local/lib/python3.9/site-packages/sklearn/metrics/_classification.py:1245: UndefinedMetricWarning: Precision and F-score are ill-defined and being set to 0.0 in labels with no predicted samples. Use `zero_division` parameter to control this behavior.\n",
      "  _warn_prf(average, modifier, msg_start, len(result))\n",
      "/home/jupyter-sigitpurnomo/.local/lib/python3.9/site-packages/sklearn/metrics/_classification.py:1245: UndefinedMetricWarning: Precision and F-score are ill-defined and being set to 0.0 in samples with no predicted labels. Use `zero_division` parameter to control this behavior.\n",
      "  _warn_prf(average, modifier, msg_start, len(result))\n",
      "/home/jupyter-sigitpurnomo/.local/lib/python3.9/site-packages/sklearn/metrics/_classification.py:1245: UndefinedMetricWarning: Recall and F-score are ill-defined and being set to 0.0 in samples with no true labels. Use `zero_division` parameter to control this behavior.\n",
      "  _warn_prf(average, modifier, msg_start, len(result))\n"
     ]
    }
   ],
   "source": [
    "\n",
    "print(bio_classification_report(y_test, y_pred))\n"
   ]
  },
  {
   "cell_type": "code",
   "execution_count": 63,
   "metadata": {},
   "outputs": [],
   "source": [
    "from seqeval.metrics import classification_report,f1_score\n",
    "from seqeval.scheme import BILOU"
   ]
  },
  {
   "cell_type": "code",
   "execution_count": 64,
   "metadata": {},
   "outputs": [
    {
     "name": "stdout",
     "output_type": "stream",
     "text": [
      "              precision    recall  f1-score   support\n",
      "\n",
      "    CARDINAL       0.08      0.05      0.06        38\n",
      "        DATE       0.58      0.42      0.49        93\n",
      "       EVENT       0.48      0.33      0.39       145\n",
      "         FAC       0.52      0.10      0.17       122\n",
      "         GPE       0.57      0.49      0.53       482\n",
      "    LANGUAGE       0.00      0.00      0.00         2\n",
      "         LAW       0.00      0.00      0.00         3\n",
      "         LOC       0.00      0.00      0.00        11\n",
      "       MONEY       0.93      0.65      0.76        40\n",
      "        NORP       0.00      0.00      0.00        16\n",
      "     ORDINAL       0.00      0.00      0.00        22\n",
      "         ORG       0.42      0.36      0.39       197\n",
      "     PERCENT       0.00      0.00      0.00         4\n",
      "      PERSON       0.74      0.58      0.65       183\n",
      "     PRODUCT       0.29      0.26      0.27       118\n",
      "    QUANTITY       0.50      0.09      0.15        56\n",
      "        TIME       0.00      0.00      0.00         9\n",
      " WORK_OF_ART       0.17      0.19      0.18        21\n",
      "\n",
      "   micro avg       0.52      0.37      0.43      1562\n",
      "   macro avg       0.29      0.20      0.22      1562\n",
      "weighted avg       0.50      0.37      0.42      1562\n",
      "\n"
     ]
    },
    {
     "name": "stderr",
     "output_type": "stream",
     "text": [
      "/opt/tljh/user/lib/python3.9/site-packages/seqeval/metrics/sequence_labeling.py:171: UserWarning: L-PERSON seems not to be NE tag.\n",
      "  warnings.warn('{} seems not to be NE tag.'.format(chunk))\n",
      "/opt/tljh/user/lib/python3.9/site-packages/seqeval/metrics/sequence_labeling.py:171: UserWarning: U-PERSON seems not to be NE tag.\n",
      "  warnings.warn('{} seems not to be NE tag.'.format(chunk))\n",
      "/opt/tljh/user/lib/python3.9/site-packages/seqeval/metrics/sequence_labeling.py:171: UserWarning: L-FAC seems not to be NE tag.\n",
      "  warnings.warn('{} seems not to be NE tag.'.format(chunk))\n",
      "/opt/tljh/user/lib/python3.9/site-packages/seqeval/metrics/sequence_labeling.py:171: UserWarning: U-TIME seems not to be NE tag.\n",
      "  warnings.warn('{} seems not to be NE tag.'.format(chunk))\n",
      "/opt/tljh/user/lib/python3.9/site-packages/seqeval/metrics/sequence_labeling.py:171: UserWarning: L-ORG seems not to be NE tag.\n",
      "  warnings.warn('{} seems not to be NE tag.'.format(chunk))\n",
      "/opt/tljh/user/lib/python3.9/site-packages/seqeval/metrics/sequence_labeling.py:171: UserWarning: U-GPE seems not to be NE tag.\n",
      "  warnings.warn('{} seems not to be NE tag.'.format(chunk))\n",
      "/opt/tljh/user/lib/python3.9/site-packages/seqeval/metrics/sequence_labeling.py:171: UserWarning: L-EVENT seems not to be NE tag.\n",
      "  warnings.warn('{} seems not to be NE tag.'.format(chunk))\n",
      "/opt/tljh/user/lib/python3.9/site-packages/seqeval/metrics/sequence_labeling.py:171: UserWarning: L-DATE seems not to be NE tag.\n",
      "  warnings.warn('{} seems not to be NE tag.'.format(chunk))\n",
      "/opt/tljh/user/lib/python3.9/site-packages/seqeval/metrics/sequence_labeling.py:171: UserWarning: L-GPE seems not to be NE tag.\n",
      "  warnings.warn('{} seems not to be NE tag.'.format(chunk))\n",
      "/opt/tljh/user/lib/python3.9/site-packages/seqeval/metrics/sequence_labeling.py:171: UserWarning: U-FAC seems not to be NE tag.\n",
      "  warnings.warn('{} seems not to be NE tag.'.format(chunk))\n",
      "/opt/tljh/user/lib/python3.9/site-packages/seqeval/metrics/sequence_labeling.py:171: UserWarning: U-ORG seems not to be NE tag.\n",
      "  warnings.warn('{} seems not to be NE tag.'.format(chunk))\n",
      "/opt/tljh/user/lib/python3.9/site-packages/seqeval/metrics/sequence_labeling.py:171: UserWarning: L-CARDINAL seems not to be NE tag.\n",
      "  warnings.warn('{} seems not to be NE tag.'.format(chunk))\n",
      "/opt/tljh/user/lib/python3.9/site-packages/seqeval/metrics/sequence_labeling.py:171: UserWarning: L-MONEY seems not to be NE tag.\n",
      "  warnings.warn('{} seems not to be NE tag.'.format(chunk))\n",
      "/opt/tljh/user/lib/python3.9/site-packages/seqeval/metrics/sequence_labeling.py:171: UserWarning: U-QUANTITY seems not to be NE tag.\n",
      "  warnings.warn('{} seems not to be NE tag.'.format(chunk))\n",
      "/opt/tljh/user/lib/python3.9/site-packages/seqeval/metrics/sequence_labeling.py:171: UserWarning: U-ORDINAL seems not to be NE tag.\n",
      "  warnings.warn('{} seems not to be NE tag.'.format(chunk))\n",
      "/opt/tljh/user/lib/python3.9/site-packages/seqeval/metrics/sequence_labeling.py:171: UserWarning: U-CARDINAL seems not to be NE tag.\n",
      "  warnings.warn('{} seems not to be NE tag.'.format(chunk))\n",
      "/opt/tljh/user/lib/python3.9/site-packages/seqeval/metrics/sequence_labeling.py:171: UserWarning: U-DATE seems not to be NE tag.\n",
      "  warnings.warn('{} seems not to be NE tag.'.format(chunk))\n",
      "/opt/tljh/user/lib/python3.9/site-packages/seqeval/metrics/sequence_labeling.py:171: UserWarning: U-EVENT seems not to be NE tag.\n",
      "  warnings.warn('{} seems not to be NE tag.'.format(chunk))\n",
      "/opt/tljh/user/lib/python3.9/site-packages/seqeval/metrics/sequence_labeling.py:171: UserWarning: L-PRODUCT seems not to be NE tag.\n",
      "  warnings.warn('{} seems not to be NE tag.'.format(chunk))\n",
      "/opt/tljh/user/lib/python3.9/site-packages/seqeval/metrics/sequence_labeling.py:171: UserWarning: U-PRODUCT seems not to be NE tag.\n",
      "  warnings.warn('{} seems not to be NE tag.'.format(chunk))\n",
      "/opt/tljh/user/lib/python3.9/site-packages/seqeval/metrics/sequence_labeling.py:171: UserWarning: L-ORDINAL seems not to be NE tag.\n",
      "  warnings.warn('{} seems not to be NE tag.'.format(chunk))\n",
      "/opt/tljh/user/lib/python3.9/site-packages/seqeval/metrics/sequence_labeling.py:171: UserWarning: U-LOC seems not to be NE tag.\n",
      "  warnings.warn('{} seems not to be NE tag.'.format(chunk))\n",
      "/opt/tljh/user/lib/python3.9/site-packages/seqeval/metrics/sequence_labeling.py:171: UserWarning: U-LAW seems not to be NE tag.\n",
      "  warnings.warn('{} seems not to be NE tag.'.format(chunk))\n",
      "/opt/tljh/user/lib/python3.9/site-packages/seqeval/metrics/sequence_labeling.py:171: UserWarning: L-LAW seems not to be NE tag.\n",
      "  warnings.warn('{} seems not to be NE tag.'.format(chunk))\n",
      "/opt/tljh/user/lib/python3.9/site-packages/seqeval/metrics/sequence_labeling.py:171: UserWarning: L-NORP seems not to be NE tag.\n",
      "  warnings.warn('{} seems not to be NE tag.'.format(chunk))\n",
      "/opt/tljh/user/lib/python3.9/site-packages/seqeval/metrics/sequence_labeling.py:171: UserWarning: L-QUANTITY seems not to be NE tag.\n",
      "  warnings.warn('{} seems not to be NE tag.'.format(chunk))\n",
      "/opt/tljh/user/lib/python3.9/site-packages/seqeval/metrics/sequence_labeling.py:171: UserWarning: L-TIME seems not to be NE tag.\n",
      "  warnings.warn('{} seems not to be NE tag.'.format(chunk))\n",
      "/opt/tljh/user/lib/python3.9/site-packages/seqeval/metrics/sequence_labeling.py:171: UserWarning: L-PERCENT seems not to be NE tag.\n",
      "  warnings.warn('{} seems not to be NE tag.'.format(chunk))\n",
      "/opt/tljh/user/lib/python3.9/site-packages/seqeval/metrics/sequence_labeling.py:171: UserWarning: L-WORK_OF_ART seems not to be NE tag.\n",
      "  warnings.warn('{} seems not to be NE tag.'.format(chunk))\n",
      "/opt/tljh/user/lib/python3.9/site-packages/seqeval/metrics/sequence_labeling.py:171: UserWarning: U-LANGUAGE seems not to be NE tag.\n",
      "  warnings.warn('{} seems not to be NE tag.'.format(chunk))\n",
      "/opt/tljh/user/lib/python3.9/site-packages/seqeval/metrics/sequence_labeling.py:171: UserWarning: U-WORK_OF_ART seems not to be NE tag.\n",
      "  warnings.warn('{} seems not to be NE tag.'.format(chunk))\n",
      "/opt/tljh/user/lib/python3.9/site-packages/seqeval/metrics/sequence_labeling.py:171: UserWarning: U-NORP seems not to be NE tag.\n",
      "  warnings.warn('{} seems not to be NE tag.'.format(chunk))\n",
      "/opt/tljh/user/lib/python3.9/site-packages/seqeval/metrics/sequence_labeling.py:171: UserWarning: L-LOC seems not to be NE tag.\n",
      "  warnings.warn('{} seems not to be NE tag.'.format(chunk))\n",
      "/opt/tljh/user/lib/python3.9/site-packages/seqeval/metrics/sequence_labeling.py:171: UserWarning: U-MONEY seems not to be NE tag.\n",
      "  warnings.warn('{} seems not to be NE tag.'.format(chunk))\n",
      "/opt/tljh/user/lib/python3.9/site-packages/seqeval/metrics/sequence_labeling.py:171: UserWarning: - seems not to be NE tag.\n",
      "  warnings.warn('{} seems not to be NE tag.'.format(chunk))\n",
      "/opt/tljh/user/lib/python3.9/site-packages/seqeval/metrics/v1.py:57: UndefinedMetricWarning: Precision and F-score are ill-defined and being set to 0.0 in labels with no predicted samples. Use `zero_division` parameter to control this behavior.\n",
      "  _warn_prf(average, modifier, msg_start, len(result))\n"
     ]
    }
   ],
   "source": [
    "print(classification_report(y_test, y_pred, scheme=\"BILOU\"))"
   ]
  },
  {
   "cell_type": "code",
   "execution_count": 62,
   "metadata": {},
   "outputs": [
    {
     "name": "stdout",
     "output_type": "stream",
     "text": [
      "Top likely transitions:\n",
      "B-LANGUAGE -> L-LANGUAGE 7.102971\n",
      "B-DATE -> I-DATE  6.341949\n",
      "B-DATE -> L-DATE  6.328808\n",
      "I-DATE -> L-DATE  6.324264\n",
      "B-CARDINAL -> L-CARDINAL 6.305701\n",
      "B-ORG  -> I-ORG   6.154280\n",
      "B-PRODUCT -> L-PRODUCT 5.988394\n",
      "I-ORG  -> I-ORG   5.955453\n",
      "I-DATE -> I-DATE  5.921284\n",
      "B-ORG  -> L-ORG   5.915820\n",
      "B-QUANTITY -> L-QUANTITY 5.913940\n",
      "I-EVENT -> L-EVENT 5.870193\n",
      "B-PERCENT -> L-PERCENT 5.835222\n",
      "I-LOC  -> I-LOC   5.799386\n",
      "B-PERSON -> I-PERSON 5.781363\n",
      "\n",
      "Top unlikely transitions:\n",
      "B-EVENT -> O       -2.639390\n",
      "B-PERSON -> O       -2.640114\n",
      "I-LOC  -> O       -2.650887\n",
      "B-FAC  -> O       -2.662632\n",
      "I-PRODUCT -> O       -2.691365\n",
      "O      -> L-PERSON -2.773893\n",
      "I-ORG  -> O       -2.828404\n",
      "B-PRODUCT -> O       -2.925748\n",
      "O      -> I-WORK_OF_ART -2.934128\n",
      "O      -> I-EVENT -2.991566\n",
      "I-EVENT -> O       -3.045788\n",
      "O      -> I-PRODUCT -3.063498\n",
      "O      -> I-FAC   -3.092823\n",
      "I-WORK_OF_ART -> O       -3.112923\n",
      "I-GPE  -> O       -3.186670\n"
     ]
    }
   ],
   "source": [
    "from collections import Counter\n",
    "info = tagger.info()\n",
    "\n",
    "def print_transitions(trans_features):\n",
    "    for (label_from, label_to), weight in trans_features:\n",
    "        print(\"%-6s -> %-7s %0.6f\" % (label_from, label_to, weight))\n",
    "\n",
    "print(\"Top likely transitions:\")\n",
    "print_transitions(Counter(info.transitions).most_common(15))\n",
    "\n",
    "print(\"\\nTop unlikely transitions:\")\n",
    "print_transitions(Counter(info.transitions).most_common()[-15:])"
   ]
  },
  {
   "cell_type": "code",
   "execution_count": 49,
   "metadata": {},
   "outputs": [
    {
     "name": "stdout",
     "output_type": "stream",
     "text": [
      "Top positive:\n",
      "8.961001 B-FNB  word.lower=nasi\n",
      "6.555337 B-IND  word.lower=arsenal\n",
      "5.533903 B-PLC  -1:word.lower=berdarah\n",
      "5.200576 B-IND  word.lower=skuter\n",
      "5.124560 B-FNB  word.lower=rendang\n",
      "4.887663 B-EVT  word.lower=wisuda\n",
      "4.841133 B-FNB  word.lower=sate\n",
      "4.819712 B-IND  word.lower=instagram\n",
      "4.565449 B-PLC  word.lower=pakistan\n",
      "4.549857 B-FNB  word.lower=pisang\n",
      "4.423253 B-EVT  word.lower=pilkada\n",
      "4.338747 B-PLC  word.lower=kecamatan\n",
      "4.332411 O      postag=B-CSN\n",
      "4.310374 B-EVT  +1:word.lower=olahraga\n",
      "4.301074 B-IND  word.lower=leicester\n",
      "4.267920 B-PLC  word.lower=singkawang\n",
      "4.144854 B-IND  -1:word.lower=ka\n",
      "4.099111 O      postag=B-SYM\n",
      "4.092291 B-PLC  word.lower=singapura\n",
      "3.890772 B-EVT  word.lower=olimpiade\n",
      "\n",
      "Top negative:\n",
      "-1.651780 I-PLC  -1:word.lower=indonesia\n",
      "-1.655243 I-PLC  postag=B-SYM\n",
      "-1.681434 B-PPL  word[-3:]=com\n",
      "-1.684919 O      +1:word.lower=â\n",
      "-1.696493 O      word.lower=predator\n",
      "-1.717512 O      word[-2:]=hi\n",
      "-1.723345 O      word.lower=mata\n",
      "-1.761105 O      word[-3:]=gia\n",
      "-1.780571 O      word.lower=pernikahan\n",
      "-1.785327 O      -1:word.lower=mengalahkan\n",
      "-1.810150 O      word[-3:]=das\n",
      "-1.829054 O      word[-3:]=lia\n",
      "-1.916484 O      word[-3:]=oni\n",
      "-1.972927 O      -1:word.lower=perayaan\n",
      "-2.117572 O      word.lower=malang\n",
      "-2.360624 B-IND  word.isdigit=True\n",
      "-2.480714 O      +1:word.lower=--\n",
      "-2.487272 O      postag=B-NNP\n",
      "-3.193641 O      word.lower=ikan\n",
      "-3.944247 O      word.lower=lebaran\n"
     ]
    }
   ],
   "source": [
    "\n",
    "\n",
    "def print_state_features(state_features):\n",
    "    for (attr, label), weight in state_features:\n",
    "        print(\"%0.6f %-6s %s\" % (weight, label, attr))    \n",
    "\n",
    "print(\"Top positive:\")\n",
    "print_state_features(Counter(info.state_features).most_common(20))\n",
    "\n",
    "print(\"\\nTop negative:\")\n",
    "print_state_features(Counter(info.state_features).most_common()[-20:])\n",
    "\n"
   ]
  },
  {
   "cell_type": "code",
   "execution_count": null,
   "metadata": {},
   "outputs": [],
   "source": []
  }
 ],
 "metadata": {
  "kernelspec": {
   "display_name": "Python 3 (ipykernel)",
   "language": "python",
   "name": "python3"
  },
  "language_info": {
   "codemirror_mode": {
    "name": "ipython",
    "version": 3
   },
   "file_extension": ".py",
   "mimetype": "text/x-python",
   "name": "python",
   "nbconvert_exporter": "python",
   "pygments_lexer": "ipython3",
   "version": "3.9.7"
  }
 },
 "nbformat": 4,
 "nbformat_minor": 4
}
